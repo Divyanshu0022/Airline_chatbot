{
  "metadata": {
    "kernelspec": {
      "name": "xpython",
      "display_name": "Python 3.13 (XPython)",
      "language": "python"
    },
    "language_info": {
      "file_extension": ".py",
      "mimetype": "text/x-python",
      "name": "python",
      "version": "3.13.1"
    }
  },
  "nbformat_minor": 5,
  "nbformat": 4,
  "cells": [
    {
      "id": "80950665-3f1f-43ff-a2c6-62053f1e86d0",
      "cell_type": "code",
      "source": "# imports\n\nimport os\nimport json\nfrom dotenv import load_dotenv\nimport litellm\nimport gradio as gr",
      "metadata": {
        "trusted": true
      },
      "outputs": [],
      "execution_count": null
    },
    {
      "id": "a330476c-19b7-496d-87a3-348f115f5cb6",
      "cell_type": "code",
      "source": "# Initialization\n# This one line reads your .env file and loads your GEMINI_API_KEY , scince i have my key in .env file.\nload_dotenv()\n\nprint(\"✅ API Key loaded securely from .env file.\")\n    \nMODEL = 'gemini/gemini-1.5-flash'\n\n\n#if you dont have key in .env file you can still use code just download this ipynb file and write prompt to any AI frontier llm model \"\"Hello, I'm providing my Jupyter notebook code that uses litellm. Please convert it into two separate versions, one for the native OpenAI SDK and another for the native Claude SDK, showing the key code changes. .\n",
      "metadata": {
        "trusted": true
      },
      "outputs": [],
      "execution_count": null
    },
    {
      "id": "523ebf9e-c5e0-42d0-bba0-07e85da9b1da",
      "cell_type": "code",
      "source": "system_message = \"You are a helpful assistant for an Airline called FlightAI. \"\nsystem_message += \"Give short, courteous answers, no more than 1 sentence. \"\nsystem_message += \"Always be accurate. If you don't know the answer, say so.\"",
      "metadata": {
        "trusted": true
      },
      "outputs": [],
      "execution_count": null
    },
    {
      "id": "60795075-a8e5-48b5-ab41-29b3befca3ba",
      "cell_type": "code",
      "source": "# This function looks rather simpler than the one from my video, because we're taking advantage of the latest Gradio updates\n\ndef chat(message, history):\n    messages = [{\"role\": \"system\", \"content\": system_message}] + history + [{\"role\": \"user\", \"content\": message}]\n    response = litellm.completion(model=MODEL, messages=messages)\n    return response.choices[0].message.content",
      "metadata": {
        "trusted": true
      },
      "outputs": [],
      "execution_count": null
    },
    {
      "id": "fd5ab2c5-7315-4b97-a095-3d9139ec7a6e",
      "cell_type": "code",
      "source": "# when you will launch gradio and ask question about real time price ticket it will dont answer you \n# gr.ChatInterface(fn=chat, type=\"messages\").launch()\n# so now we will write tool ",
      "metadata": {
        "trusted": true
      },
      "outputs": [],
      "execution_count": null
    },
    {
      "id": "08e8bce7-d4bf-4c71-9d20-72da877cbb1a",
      "cell_type": "markdown",
      "source": "# Tools",
      "metadata": {}
    },
    {
      "id": "97341ba5-7658-4c44-8897-c2878c0cf75e",
      "cell_type": "code",
      "source": "# Let's start by making a useful function\n# Mock database for ticket prices \nticket_prices = {\"london\": \"$799\", \"paris\": \"$899\", \"tokyo\": \"$1400\", \"berlin\": \"$499\"}\n\ndef get_ticket_price(destination_city):\n    print(f\"Tool get_ticket_price called for {destination_city}\")\n    city = destination_city.lower()\n    return ticket_prices.get(city, \"Unknown\")\n\n\n# Mock database for flight availability and bookings\nflight_availability = {\n    \"london\": [\n        {\"flight_number\": \"FA101\", \"departure\": \"10:00 AM\", \"seats_available\": 5},\n        {\"flight_number\": \"FA102\", \"departure\": \"09:00 PM\", \"seats_available\": 2},\n    ],\n    \"paris\": [\n        {\"flight_number\": \"FA201\", \"departure\": \"11:30 AM\", \"seats_available\": 10},\n    ],\n    \"tokyo\": [\n        {\"flight_number\": \"FA301\", \"departure\": \"08:00 PM\", \"seats_available\": 0},\n    ],\n    \"berlin\": [\n        {\"flight_number\": \"FA401\", \"departure\": \"01:00 PM\", \"seats_available\": 8},\n    ]\n}\n\ndef get_flight_availability(destination_city):\n    \"\"\"Checks for available flights to a given destination.\"\"\"\n    print(f\"Tool get_flight_availability called for {destination_city}\")\n    city = destination_city.lower()\n    return flight_availability.get(city, \"No flights found for this destination.\")\n\ndef book_flight(flight_number, passenger_name):\n    \"\"\"Books a flight for a passenger and returns a confirmation.\"\"\"\n    print(f\"Tool book_flight called for flight {flight_number} for {passenger_name}\")\n    for city, flights in flight_availability.items():\n        for flight in flights:\n            if flight[\"flight_number\"] == flight_number:\n                if flight[\"seats_available\"] > 0:\n                    flight[\"seats_available\"] -= 1  # Decrement seat count\n                    return f\"Booking confirmed for {passenger_name} on flight {flight_number}.\"\n                else:\n                    return f\"Sorry, flight {flight_number} is fully booked.\"\n    return f\"Flight with number {flight_number} not found.\"\n\n",
      "metadata": {
        "trusted": true
      },
      "outputs": [],
      "execution_count": null
    },
    {
      "id": "fba5b37c-5d05-43c2-990a-722931e8feec",
      "cell_type": "code",
      "source": "# There's a particular dictionary structure that's required to describe our function:\n\nprice_function = {\n    \"name\": \"get_ticket_price\",\n    \"description\": \"Get the price of a return ticket to the destination city. Call this whenever you need to know the ticket price, for example when a customer asks 'How much is a ticket to this city'\",\n    \"parameters\": {\n        \"type\": \"object\",\n        \"properties\": {\n            \"destination_city\": {\n                \"type\": \"string\",\n                \"description\": \"The city that the customer wants to travel to\",\n            },\n        },\n        \"required\": [\"destination_city\"],\n        \"additionalProperties\": False\n    }\n}",
      "metadata": {
        "trusted": true
      },
      "outputs": [],
      "execution_count": null
    },
    {
      "id": "0b352ff8-cea7-466d-873a-720001e1c57a",
      "cell_type": "code",
      "source": "availability_function = {\n    \"name\": \"get_flight_availability\",\n    \"description\": \"Get the available flights for a destination city. Call this when a customer asks about flight times or availability.\",\n    \"parameters\": {\n        \"type\": \"object\",\n        \"properties\": {\n            \"destination_city\": {\n                \"type\": \"string\",\n                \"description\": \"The city that the customer wants to check for flights.\",\n            },\n        },\n        \"required\": [\"destination_city\"],\n    }\n}\n\nbooking_function = {\n    \"name\": \"book_flight\",\n    \"description\": \"Book a flight for a passenger. Call this when a customer explicitly asks to book a specific flight.\",\n    \"parameters\": {\n        \"type\": \"object\",\n        \"properties\": {\n            \"flight_number\": {\n                \"type\": \"string\",\n                \"description\": \"The flight number for the booking, e.g., 'FA101'.\",\n            },\n            \"passenger_name\": {\n                \"type\": \"string\",\n                \"description\": \"The full name of the passenger for the booking.\",\n            },\n        },\n        \"required\": [\"flight_number\", \"passenger_name\"],\n    }\n}\n\n",
      "metadata": {
        "trusted": true
      },
      "outputs": [],
      "execution_count": null
    },
    {
      "id": "96bf6564-9846-4d77-a1d7-29490e89d3b1",
      "cell_type": "code",
      "source": "# And this is included in a list of tools:\n\ntools = [\n    {\"type\": \"function\", \"function\": price_function},\n    {\"type\": \"function\", \"function\": availability_function},\n    {\"type\": \"function\", \"function\": booking_function}\n]",
      "metadata": {
        "trusted": true
      },
      "outputs": [],
      "execution_count": null
    },
    {
      "id": "eb46bc98-85fd-4b70-b2a4-66697e8cc663",
      "cell_type": "code",
      "source": "\n\ndef handle_tool_call(message):\n    \"\"\"\n    Handles the tool call requested by the LLM.\n    It checks which function to call and executes it with the provided arguments.\n    \"\"\"\n    tool_call = message.tool_calls[0]\n    tool_function_name = tool_call.function.name\n    arguments = json.loads(tool_call.function.arguments)\n\n    print(f\"LLM wants to call the tool: {tool_function_name}\")\n\n    # Initialize tool_response to None\n    tool_response = None\n\n    # Route to the correct function based on the tool name\n    if tool_function_name == \"get_ticket_price\":\n        destination = arguments.get('destination_city')\n        price = get_ticket_price(destination)\n        tool_response = {\"destination_city\": destination, \"price\": price}\n\n    elif tool_function_name == \"get_flight_availability\":\n        destination = arguments.get('destination_city')\n        availability = get_flight_availability(destination)\n        tool_response = {\"destination_city\": destination, \"available_flights\": availability}\n\n    elif tool_function_name == \"book_flight\":\n        flight_number = arguments.get('flight_number')\n        passenger_name = arguments.get('passenger_name')\n        confirmation = book_flight(flight_number, passenger_name)\n        tool_response = {\"flight_number\": flight_number, \"status\": confirmation}\n\n    if tool_response is None:\n        # Handle cases where the tool name is not recognized\n        print(f\"Error: Tool '{tool_function_name}' not found.\")\n        tool_response = {\"error\": f\"Tool '{tool_function_name}' not found.\"}\n\n    # Format the final response for the LLM\n    response = {\n        \"role\": \"tool\",\n        \"content\": json.dumps(tool_response),\n        \"tool_call_id\": tool_call.id\n    }\n    return response",
      "metadata": {
        "trusted": true
      },
      "outputs": [],
      "execution_count": null
    },
    {
      "id": "c6a02301-102c-4fd1-a9ef-f09bb6efb8a0",
      "cell_type": "code",
      "source": "def chat(message, history):\n    messages = [{\"role\": \"system\", \"content\": system_message}] + history + [{\"role\": \"user\", \"content\": message}]\n    response = litellm.completion(model=MODEL, messages=messages, tools=tools)\n\n    if response.choices[0].finish_reason==\"tool_calls\":  #if model have not answer then use tools(code) written on my machine\n        message = response.choices[0].message #collect response form model\n        print(message) #to see what was message by model .....optional...\n        #response, city = handle_tool_call(message) #unpack response from model , we used a function handel_tool_call to make our code less messy.\n        response = handle_tool_call(message)\n        messages.append(message) #add two more rows one is message collected from mdodel \n        messages.append(response) # second is response when we use tools\n        print(response) # To see response from user after running tool .....optional.....\n        response = litellm.completion(model=MODEL, messages=messages) #give final output result\n\n# workflow is like we know user say this asistant replie , so on ... when assitant say i dont have real time price of ticket we use tool and \\\n# give as user say this then assistant take our response and replied \n    \n    return response.choices[0].message.content",
      "metadata": {
        "trusted": true
      },
      "outputs": [],
      "execution_count": null
    }
  ]
}